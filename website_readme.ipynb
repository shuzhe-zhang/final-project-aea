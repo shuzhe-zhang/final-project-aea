{
 "cells": [
  {
   "cell_type": "markdown",
   "metadata": {},
   "source": [
    "# ReadMe"
   ]
  },
  {
   "cell_type": "markdown",
   "metadata": {},
   "source": [
    "## Home Page"
   ]
  },
  {
   "cell_type": "markdown",
   "metadata": {},
   "source": [
    "Dear Economist,\n",
    "\n",
    "We are so glad that you found this website! As you can see from our available panels, we are here to help you use publications from the American Economic Association(AEA) in a more effective way. Wanna know how to use this website? Go through this ReadMe carefully and start your own exploration right away!\n",
    "\n",
    "Our most updated dataset includes 7,375 papers from the 6 journals in the AEA website (last update April 8th 2024).\n",
    "1. American Economic Review (AER) - Volumes 89 to present\n",
    "2. AER: Insights - Volume 1 to present\n",
    "3. AEJ: Applied Economics - Volume 1 to present\n",
    "4. AEJ: Economic Policy - Volume 1 to present\n",
    "5. AEJ: Macroeconomics - Volume 1 to present\n",
    "6. AEJ: Microeconomics - Volume 1 to present\n",
    "\n",
    "This website contains three panels which can help you discover the hidden trends in recent publications, find the most relevant works to your own research, and group works you are interested in by theme with an informative summary. Yes, that's right, this is a fancy website equipped with AI!\n",
    "1. General Trends: Want to know which economic subfield is the rising star? The datasets people are using nowadays? The topics and countries worth studying? Or maybe...curious about the small groups in academia? This panel will tell you a lot.\n",
    "2. Literature Search: Search literature in our archive by selecting criteria such as years, journals, JEL codes, authors, and keywords. Once getting all the literature you want, you will be able to save them into one csv file with one click (which is something AEA website can't offer).\n",
    "3. Literature Review: Having all the literature you want but don't know what to do next? We can make a good start for you! Upload the csv file from the second panel here and the website will use OpenAI to group the literature by their themes and write a brief summary for each group. This can help you get a quick understanding of previous works in the field you are interested in, and give you some insights of your own research direction.\n",
    "\n",
    "Hope you find this website helpful and good luck with your future research.\n"
   ]
  },
  {
   "cell_type": "markdown",
   "metadata": {},
   "source": [
    "## Publication Analysis"
   ]
  },
  {
   "cell_type": "markdown",
   "metadata": {},
   "source": [
    "**Field Popularity**"
   ]
  },
  {
   "cell_type": "markdown",
   "metadata": {},
   "source": [
    "Use the year slider to select the starting year. This helps you to foucs on the period you are interested in. Use the journal selection dropdown to see different field trends in different journals. You can hide the fields you are not interested in by clicking on the field name in the legend. You can also zoom in and save your personalized graphs using the tool bar on the right."
   ]
  },
  {
   "cell_type": "markdown",
   "metadata": {},
   "source": [
    "**Collaboration Network**"
   ]
  },
  {
   "cell_type": "markdown",
   "metadata": {},
   "source": [
    "Type the name of an author you are interested in and see his/her collaboration network. Click on the node of the author you are interested in to highlight part of the connections. Authors who are closer to each other in the collaboration network means they have more collaborated paper. Using the tool bar on the right hand side to zoom in part of the network and save the ones that are useful to you."
   ]
  },
  {
   "cell_type": "markdown",
   "metadata": {},
   "source": [
    "**Theme Discovery**"
   ]
  },
  {
   "cell_type": "markdown",
   "metadata": {},
   "source": [
    "**Geographic Interest**"
   ]
  },
  {
   "cell_type": "markdown",
   "metadata": {},
   "source": [
    "Use the year slider to see popular countries every year. Countries listed here are ranked in descending order based on the number of works mentioning them."
   ]
  }
 ],
 "metadata": {
  "language_info": {
   "name": "python"
  },
  "orig_nbformat": 4
 },
 "nbformat": 4,
 "nbformat_minor": 2
}
